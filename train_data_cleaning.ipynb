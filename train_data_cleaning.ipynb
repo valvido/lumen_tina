{
 "cells": [
  {
   "cell_type": "markdown",
   "id": "ea225072-c51b-443d-a448-63afbd1462ed",
   "metadata": {},
   "source": [
    "# Provjera i čišćenje train dataset-a\n"
   ]
  },
  {
   "cell_type": "markdown",
   "id": "6e3ce754",
   "metadata": {},
   "source": [
    "Uvozimo potrebne biblioteke i otvaramo procesirani dataset."
   ]
  },
  {
   "cell_type": "code",
   "execution_count": 4,
   "id": "dfd12052-f714-490b-aa9b-40b503028ff5",
   "metadata": {},
   "outputs": [],
   "source": [
    "import os, sys\n",
    "import pandas as pd\n",
    "from pathlib import Path\n",
    "curr = Path.cwd().parent.parent\n",
    "file = str(curr)\n",
    "file += \"/data_process/train_processed.parquet\""
   ]
  },
  {
   "cell_type": "code",
   "execution_count": 5,
   "id": "896e150e-7714-4741-a8dc-6c37e5496baf",
   "metadata": {},
   "outputs": [
    {
     "name": "stdout",
     "output_type": "stream",
     "text": [
      "<class 'pandas.core.frame.DataFrame'>\n",
      "RangeIndex: 31634 entries, 0 to 31633\n",
      "Data columns (total 25 columns):\n",
      " #   Column              Non-Null Count  Dtype         \n",
      "---  ------              --------------  -----         \n",
      " 0   reservation_id      31634 non-null  int64         \n",
      " 1   stay_date           31634 non-null  datetime64[ns]\n",
      " 2   guest_id            31634 non-null  int64         \n",
      " 3   guest_country_id    31634 non-null  object        \n",
      " 4   reservation_status  31634 non-null  object        \n",
      " 5   reservation_date    31634 non-null  datetime64[ns]\n",
      " 6   date_from           31634 non-null  datetime64[ns]\n",
      " 7   date_to             31634 non-null  datetime64[ns]\n",
      " 8   resort_id           31634 non-null  int64         \n",
      " 9   cancel_date         6151 non-null   object        \n",
      " 10  room_cnt            31634 non-null  int64         \n",
      " 11  adult_cnt           31634 non-null  int64         \n",
      " 12  children_cnt        31634 non-null  int64         \n",
      " 13  price               27860 non-null  float64       \n",
      " 14  price_tax           27860 non-null  float64       \n",
      " 15  total_price_tax     28076 non-null  float64       \n",
      " 16  total_price         28076 non-null  float64       \n",
      " 17  food_price          27860 non-null  float64       \n",
      " 18  food_price_tax      27860 non-null  float64       \n",
      " 19  other_price         27860 non-null  float64       \n",
      " 20  other_price_tax     27860 non-null  float64       \n",
      " 21  room_category_id    31634 non-null  int64         \n",
      " 22  sales_channel_id    31634 non-null  float64       \n",
      " 23  stay_nights         31634 non-null  float64       \n",
      " 24  price_per_night     27860 non-null  float64       \n",
      "dtypes: datetime64[ns](4), float64(11), int64(7), object(3)\n",
      "memory usage: 6.0+ MB\n"
     ]
    }
   ],
   "source": [
    "df = pd.read_parquet(file)\n",
    "df.info()"
   ]
  },
  {
   "cell_type": "markdown",
   "id": "340caf09-496a-47d4-a06b-dad49f5bef1a",
   "metadata": {},
   "source": [
    "## Brisanje podataka kojima je datum dolaska prije datuma kreiranja rezervacija"
   ]
  },
  {
   "cell_type": "code",
   "execution_count": 6,
   "id": "7977a444-0328-4dfa-9440-877be3312357",
   "metadata": {},
   "outputs": [
    {
     "name": "stdout",
     "output_type": "stream",
     "text": [
      "<class 'pandas.core.frame.DataFrame'>\n",
      "Index: 31147 entries, 0 to 31633\n",
      "Data columns (total 25 columns):\n",
      " #   Column              Non-Null Count  Dtype         \n",
      "---  ------              --------------  -----         \n",
      " 0   reservation_id      31147 non-null  int64         \n",
      " 1   stay_date           31147 non-null  datetime64[ns]\n",
      " 2   guest_id            31147 non-null  int64         \n",
      " 3   guest_country_id    31147 non-null  object        \n",
      " 4   reservation_status  31147 non-null  object        \n",
      " 5   reservation_date    31147 non-null  datetime64[ns]\n",
      " 6   date_from           31147 non-null  datetime64[ns]\n",
      " 7   date_to             31147 non-null  datetime64[ns]\n",
      " 8   resort_id           31147 non-null  int64         \n",
      " 9   cancel_date         6040 non-null   object        \n",
      " 10  room_cnt            31147 non-null  int64         \n",
      " 11  adult_cnt           31147 non-null  int64         \n",
      " 12  children_cnt        31147 non-null  int64         \n",
      " 13  price               27383 non-null  float64       \n",
      " 14  price_tax           27383 non-null  float64       \n",
      " 15  total_price_tax     27598 non-null  float64       \n",
      " 16  total_price         27598 non-null  float64       \n",
      " 17  food_price          27383 non-null  float64       \n",
      " 18  food_price_tax      27383 non-null  float64       \n",
      " 19  other_price         27383 non-null  float64       \n",
      " 20  other_price_tax     27383 non-null  float64       \n",
      " 21  room_category_id    31147 non-null  int64         \n",
      " 22  sales_channel_id    31147 non-null  float64       \n",
      " 23  stay_nights         31147 non-null  float64       \n",
      " 24  price_per_night     27383 non-null  float64       \n",
      "dtypes: datetime64[ns](4), float64(11), int64(7), object(3)\n",
      "memory usage: 6.2+ MB\n"
     ]
    }
   ],
   "source": [
    "df = df[df[\"date_from\"] >= df[\"reservation_date\"]]\n",
    "df.info()"
   ]
  },
  {
   "cell_type": "markdown",
   "id": "8c3f5961",
   "metadata": {},
   "source": [
    "## Brisanje greska kada je datum kreiranja poslije datuma brisanja rezervacije"
   ]
  },
  {
   "cell_type": "code",
   "execution_count": 7,
   "id": "620fde66-b4ec-4c55-be83-b7ab96cbf06b",
   "metadata": {},
   "outputs": [
    {
     "name": "stdout",
     "output_type": "stream",
     "text": [
      "<class 'pandas.core.frame.DataFrame'>\n",
      "Index: 31147 entries, 0 to 31633\n",
      "Data columns (total 25 columns):\n",
      " #   Column              Non-Null Count  Dtype         \n",
      "---  ------              --------------  -----         \n",
      " 0   reservation_id      31147 non-null  int64         \n",
      " 1   stay_date           31147 non-null  datetime64[ns]\n",
      " 2   guest_id            31147 non-null  int64         \n",
      " 3   guest_country_id    31147 non-null  object        \n",
      " 4   reservation_status  31147 non-null  object        \n",
      " 5   reservation_date    31147 non-null  datetime64[ns]\n",
      " 6   date_from           31147 non-null  datetime64[ns]\n",
      " 7   date_to             31147 non-null  datetime64[ns]\n",
      " 8   resort_id           31147 non-null  int64         \n",
      " 9   cancel_date         6040 non-null   object        \n",
      " 10  room_cnt            31147 non-null  int64         \n",
      " 11  adult_cnt           31147 non-null  int64         \n",
      " 12  children_cnt        31147 non-null  int64         \n",
      " 13  price               27383 non-null  float64       \n",
      " 14  price_tax           27383 non-null  float64       \n",
      " 15  total_price_tax     27598 non-null  float64       \n",
      " 16  total_price         27598 non-null  float64       \n",
      " 17  food_price          27383 non-null  float64       \n",
      " 18  food_price_tax      27383 non-null  float64       \n",
      " 19  other_price         27383 non-null  float64       \n",
      " 20  other_price_tax     27383 non-null  float64       \n",
      " 21  room_category_id    31147 non-null  int64         \n",
      " 22  sales_channel_id    31147 non-null  float64       \n",
      " 23  stay_nights         31147 non-null  float64       \n",
      " 24  price_per_night     27383 non-null  float64       \n",
      "dtypes: datetime64[ns](4), float64(11), int64(7), object(3)\n",
      "memory usage: 6.2+ MB\n"
     ]
    }
   ],
   "source": [
    "df = df[ (df[\"reservation_date\"] <= df[\"cancel_date\"] ) | (df[\"cancel_date\"].isna())]\n",
    "a = set(df[\"cancel_date\"])\n",
    "df.info()\n",
    "#print(a)"
   ]
  },
  {
   "cell_type": "markdown",
   "id": "90d5974b-480f-4096-9b2e-4e0837805c23",
   "metadata": {},
   "source": [
    "## Brisanje podataka gdje je broj odraslih 0"
   ]
  },
  {
   "cell_type": "code",
   "execution_count": 8,
   "id": "692ef8c0-c97c-45e2-a293-ef6ec6f1c2fb",
   "metadata": {},
   "outputs": [
    {
     "name": "stdout",
     "output_type": "stream",
     "text": [
      "<class 'pandas.core.frame.DataFrame'>\n",
      "Index: 31147 entries, 0 to 31633\n",
      "Data columns (total 25 columns):\n",
      " #   Column              Non-Null Count  Dtype         \n",
      "---  ------              --------------  -----         \n",
      " 0   reservation_id      31147 non-null  int64         \n",
      " 1   stay_date           31147 non-null  datetime64[ns]\n",
      " 2   guest_id            31147 non-null  int64         \n",
      " 3   guest_country_id    31147 non-null  object        \n",
      " 4   reservation_status  31147 non-null  object        \n",
      " 5   reservation_date    31147 non-null  datetime64[ns]\n",
      " 6   date_from           31147 non-null  datetime64[ns]\n",
      " 7   date_to             31147 non-null  datetime64[ns]\n",
      " 8   resort_id           31147 non-null  int64         \n",
      " 9   cancel_date         6040 non-null   object        \n",
      " 10  room_cnt            31147 non-null  int64         \n",
      " 11  adult_cnt           31147 non-null  int64         \n",
      " 12  children_cnt        31147 non-null  int64         \n",
      " 13  price               27383 non-null  float64       \n",
      " 14  price_tax           27383 non-null  float64       \n",
      " 15  total_price_tax     27598 non-null  float64       \n",
      " 16  total_price         27598 non-null  float64       \n",
      " 17  food_price          27383 non-null  float64       \n",
      " 18  food_price_tax      27383 non-null  float64       \n",
      " 19  other_price         27383 non-null  float64       \n",
      " 20  other_price_tax     27383 non-null  float64       \n",
      " 21  room_category_id    31147 non-null  int64         \n",
      " 22  sales_channel_id    31147 non-null  float64       \n",
      " 23  stay_nights         31147 non-null  float64       \n",
      " 24  price_per_night     27383 non-null  float64       \n",
      "dtypes: datetime64[ns](4), float64(11), int64(7), object(3)\n",
      "memory usage: 6.2+ MB\n"
     ]
    }
   ],
   "source": [
    "df = df[df[\"adult_cnt\"] > 0]\n",
    "df.info()"
   ]
  },
  {
   "cell_type": "markdown",
   "id": "ec45ebfd-1a3c-4715-9547-7bd820728b78",
   "metadata": {},
   "source": [
    "## Brisanje onih kojima je datum otkazivanja nakon datuma odjave"
   ]
  },
  {
   "cell_type": "code",
   "execution_count": 9,
   "id": "78d29637-4be9-4d5f-87ef-5c130233f972",
   "metadata": {},
   "outputs": [
    {
     "name": "stdout",
     "output_type": "stream",
     "text": [
      "<class 'pandas.core.frame.DataFrame'>\n",
      "Index: 31040 entries, 0 to 31633\n",
      "Data columns (total 25 columns):\n",
      " #   Column              Non-Null Count  Dtype         \n",
      "---  ------              --------------  -----         \n",
      " 0   reservation_id      31040 non-null  int64         \n",
      " 1   stay_date           31040 non-null  datetime64[ns]\n",
      " 2   guest_id            31040 non-null  int64         \n",
      " 3   guest_country_id    31040 non-null  object        \n",
      " 4   reservation_status  31040 non-null  object        \n",
      " 5   reservation_date    31040 non-null  datetime64[ns]\n",
      " 6   date_from           31040 non-null  datetime64[ns]\n",
      " 7   date_to             31040 non-null  datetime64[ns]\n",
      " 8   resort_id           31040 non-null  int64         \n",
      " 9   cancel_date         5933 non-null   object        \n",
      " 10  room_cnt            31040 non-null  int64         \n",
      " 11  adult_cnt           31040 non-null  int64         \n",
      " 12  children_cnt        31040 non-null  int64         \n",
      " 13  price               27366 non-null  float64       \n",
      " 14  price_tax           27366 non-null  float64       \n",
      " 15  total_price_tax     27580 non-null  float64       \n",
      " 16  total_price         27580 non-null  float64       \n",
      " 17  food_price          27366 non-null  float64       \n",
      " 18  food_price_tax      27366 non-null  float64       \n",
      " 19  other_price         27366 non-null  float64       \n",
      " 20  other_price_tax     27366 non-null  float64       \n",
      " 21  room_category_id    31040 non-null  int64         \n",
      " 22  sales_channel_id    31040 non-null  float64       \n",
      " 23  stay_nights         31040 non-null  float64       \n",
      " 24  price_per_night     27366 non-null  float64       \n",
      "dtypes: datetime64[ns](4), float64(11), int64(7), object(3)\n",
      "memory usage: 6.2+ MB\n"
     ]
    }
   ],
   "source": [
    "df = df[ (df[\"cancel_date\"] < df[\"date_to\"]) | (df[\"cancel_date\"].isna())  ]\n",
    "df.info()"
   ]
  },
  {
   "cell_type": "markdown",
   "id": "a53103e5",
   "metadata": {},
   "source": [
    "## Brisanje ponovljenih podataka"
   ]
  },
  {
   "cell_type": "markdown",
   "id": "f1ac153a",
   "metadata": {},
   "source": [
    "Iako nam je u dataset-u dan poseban podatak za svaki dan kad je gost odsjedao, ostaviti ćemo samo jedinstvene podatke i iz njih odrediti boravak pomoću datuma dolaska i datuma odlaska. Kako se nećemo baviti procjenama potrošnje nećemo izgubiti na interpretabilnosti. "
   ]
  },
  {
   "cell_type": "code",
   "execution_count": 10,
   "id": "01a88a24",
   "metadata": {},
   "outputs": [
    {
     "name": "stdout",
     "output_type": "stream",
     "text": [
      "<class 'pandas.core.frame.DataFrame'>\n",
      "Index: 14824 entries, 0 to 31633\n",
      "Data columns (total 25 columns):\n",
      " #   Column              Non-Null Count  Dtype         \n",
      "---  ------              --------------  -----         \n",
      " 0   reservation_id      14824 non-null  int64         \n",
      " 1   stay_date           14824 non-null  datetime64[ns]\n",
      " 2   guest_id            14824 non-null  int64         \n",
      " 3   guest_country_id    14824 non-null  object        \n",
      " 4   reservation_status  14824 non-null  object        \n",
      " 5   reservation_date    14824 non-null  datetime64[ns]\n",
      " 6   date_from           14824 non-null  datetime64[ns]\n",
      " 7   date_to             14824 non-null  datetime64[ns]\n",
      " 8   resort_id           14824 non-null  int64         \n",
      " 9   cancel_date         2764 non-null   object        \n",
      " 10  room_cnt            14824 non-null  int64         \n",
      " 11  adult_cnt           14824 non-null  int64         \n",
      " 12  children_cnt        14824 non-null  int64         \n",
      " 13  price               12845 non-null  float64       \n",
      " 14  price_tax           12845 non-null  float64       \n",
      " 15  total_price_tax     13012 non-null  float64       \n",
      " 16  total_price         13012 non-null  float64       \n",
      " 17  food_price          12845 non-null  float64       \n",
      " 18  food_price_tax      12845 non-null  float64       \n",
      " 19  other_price         12845 non-null  float64       \n",
      " 20  other_price_tax     12845 non-null  float64       \n",
      " 21  room_category_id    14824 non-null  int64         \n",
      " 22  sales_channel_id    14824 non-null  float64       \n",
      " 23  stay_nights         14824 non-null  float64       \n",
      " 24  price_per_night     12845 non-null  float64       \n",
      "dtypes: datetime64[ns](4), float64(11), int64(7), object(3)\n",
      "memory usage: 2.9+ MB\n"
     ]
    }
   ],
   "source": [
    "df.drop_duplicates(subset = \"reservation_id\", inplace = True, keep = \"first\")\n",
    "df.info()"
   ]
  },
  {
   "cell_type": "markdown",
   "id": "98724382-3af7-4a6d-b85b-7282f91ccd5e",
   "metadata": {},
   "source": [
    "## Spremanje čistih podataka"
   ]
  },
  {
   "cell_type": "code",
   "execution_count": 11,
   "id": "003961cc-59a2-4de4-8d61-879406092d3f",
   "metadata": {},
   "outputs": [],
   "source": [
    "df.to_csv(\"train_data_cleaned.csv\")\n",
    "df.to_parquet(\"train_data_cleaned.parquet\")"
   ]
  }
 ],
 "metadata": {
  "kernelspec": {
   "display_name": "Python 3 (ipykernel)",
   "language": "python",
   "name": "python3"
  },
  "language_info": {
   "codemirror_mode": {
    "name": "ipython",
    "version": 3
   },
   "file_extension": ".py",
   "mimetype": "text/x-python",
   "name": "python",
   "nbconvert_exporter": "python",
   "pygments_lexer": "ipython3",
   "version": "3.12.2"
  }
 },
 "nbformat": 4,
 "nbformat_minor": 5
}
